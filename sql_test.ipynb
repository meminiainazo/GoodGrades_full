{
 "cells": [
  {
   "cell_type": "code",
   "execution_count": 1,
   "id": "f3abd887-54d0-4a2a-a084-791a22dd48a0",
   "metadata": {},
   "outputs": [],
   "source": [
    "import mysql.connector\n",
    "from mysql.connector.constants import ClientFlag"
   ]
  },
  {
   "cell_type": "code",
   "execution_count": 2,
   "id": "fcb0bbfd-056f-4503-9f30-0584bfe1f7f1",
   "metadata": {},
   "outputs": [],
   "source": [
    "config = {\n",
    "    'user': 'goodgrades',\n",
    "    'password': 'goodgrades',\n",
    "    'host': '127.0.0.1',\n",
    "    'database': 'goodgrades',\n",
    "    # 'client_flags': [ClientFlag.SSL],\n",
    "    # 'ssl_ca': '/opt/mysql/ssl/ca.pem',\n",
    "    # 'ssl_cert': '/opt/mysql/ssl/client-cert.pem',\n",
    "    # 'ssl_key': '/opt/mysql/ssl/client-key.pem',\n",
    "}"
   ]
  },
  {
   "cell_type": "code",
   "execution_count": 3,
   "id": "22553c67-3ebb-4a2e-bb72-073f0cab109e",
   "metadata": {},
   "outputs": [],
   "source": [
    "cnx = mysql.connector.connect(**config)\n",
    "cur = cnx.cursor(buffered=True)"
   ]
  },
  {
   "cell_type": "code",
   "execution_count": 4,
   "id": "e1ddbd68-9d62-4755-94de-b2aa627de2da",
   "metadata": {},
   "outputs": [],
   "source": [
    "cur.execute(\"\"\"CREATE TABLE IF NOT EXISTS goodgrades (\n",
    "id VARCHAR(30),\n",
    "utilisateur VARCHAR(70),\n",
    "ecole VARCHAR(30),\n",
    "langue VARCHAR(30),\n",
    "annees VARCHAR(20),\n",
    "session VARCHAR(50),\n",
    "competence VARCHAR(50),\n",
    "diplome VARCHAR(70),\n",
    "question_type INT,\n",
    "question_numero INT,\n",
    "support VARCHAR(2000),\n",
    "enonce VARCHAR(1000),\n",
    "reponse_referente VARCHAR(1000),\n",
    "reponse_apprenant VARCHAR(1000),\n",
    "note_sur_10 INT,\n",
    "note FLOAT,\n",
    "note_sur FLOAT)\"\"\"\n",
    ")"
   ]
  },
  {
   "cell_type": "code",
   "execution_count": 5,
   "id": "9e7d39a8-02d4-41f8-856d-e790cd7a6358",
   "metadata": {},
   "outputs": [],
   "source": [
    "cur.execute(\"INSERT INTO goodgrades (note) VALUES (2)\")"
   ]
  },
  {
   "cell_type": "code",
   "execution_count": 3,
   "id": "b412a58c-fb59-4dbd-81e0-fae14dce1056",
   "metadata": {},
   "outputs": [
    {
     "name": "stdout",
     "output_type": "stream",
     "text": [
      "Collecting pymysql\n",
      "  Obtaining dependency information for pymysql from https://files.pythonhosted.org/packages/e5/30/20467e39523d0cfc2b6227902d3687a16364307260c75e6a1cb4422b0c62/PyMySQL-1.1.0-py3-none-any.whl.metadata\n",
      "  Downloading PyMySQL-1.1.0-py3-none-any.whl.metadata (4.4 kB)\n",
      "Downloading PyMySQL-1.1.0-py3-none-any.whl (44 kB)\n",
      "\u001b[2K   \u001b[38;2;114;156;31m━━━━━━━━━━━━━━━━━━━━━━━━━━━━━━━━━━━━━━━━\u001b[0m \u001b[32m44.8/44.8 kB\u001b[0m \u001b[31m190.2 kB/s\u001b[0m eta \u001b[36m0:00:00\u001b[0m kB/s\u001b[0m eta \u001b[36m0:00:01\u001b[0m\n",
      "\u001b[?25hInstalling collected packages: pymysql\n",
      "Successfully installed pymysql-1.1.0\n"
     ]
    }
   ],
   "source": [
    "!pip install pymysql\n"
   ]
  },
  {
   "cell_type": "code",
   "execution_count": null,
   "id": "5cd6ade2-8c35-4ffd-98ba-4624f7ca371a",
   "metadata": {},
   "outputs": [],
   "source": []
  }
 ],
 "metadata": {
  "kernelspec": {
   "display_name": "Python 3 (ipykernel)",
   "language": "python",
   "name": "python3"
  },
  "language_info": {
   "codemirror_mode": {
    "name": "ipython",
    "version": 3
   },
   "file_extension": ".py",
   "mimetype": "text/x-python",
   "name": "python",
   "nbconvert_exporter": "python",
   "pygments_lexer": "ipython3",
   "version": "3.11.5"
  }
 },
 "nbformat": 4,
 "nbformat_minor": 5
}
