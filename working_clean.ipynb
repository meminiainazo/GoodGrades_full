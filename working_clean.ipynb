{
 "cells": [
  {
   "cell_type": "code",
   "execution_count": 22,
   "id": "03ee214d-02c8-4f55-965f-868bc8df9efc",
   "metadata": {},
   "outputs": [],
   "source": [
    "import pandas as pd\n",
    "import os\n",
    "import re\n",
    "from fill_variables import *\n",
    "from patterns import *\n",
    "from docx import Document\n",
    "import PyPDF2\n",
    "import mysql.connector\n",
    "import pymysql\n",
    "import langdetect\n",
    "#import pdfplumber"
   ]
  },
  {
   "cell_type": "code",
   "execution_count": 2,
   "id": "9933be30-77eb-4a24-a232-0fdfef3b7c0a",
   "metadata": {},
   "outputs": [],
   "source": [
    "#Global file ------------------------------------------------------------------------------------------------------------\n",
    "template = pd.read_excel(\"template.xlsx\")\n",
    "grades_Folder = \"grades/\"\n",
    "subject_Folder = \"subject/\"\n",
    "reference_Folder = \"reference_answer/\"\n",
    "students_answer_Folder = \"students_answer/\"\n",
    "\n",
    "\n",
    "grade = get_file(grades_Folder)\n",
    "subject = get_file(subject_Folder)\n",
    "reference = get_file(reference_Folder)\n",
    "# -----------------------------------------------------------------------------------------------------------------------"
   ]
  },
  {
   "cell_type": "code",
   "execution_count": 3,
   "id": "64c7a9a3-b2ca-4ccc-bd7f-b7952c61ef13",
   "metadata": {},
   "outputs": [],
   "source": [
    "#Config mysql -----------------------------------------------------------------------------------------------------------\n",
    "config = {\n",
    "    'user': 'goodgrades_user',\n",
    "    'password': 'goodgrades',\n",
    "    'host': '127.0.0.1',\n",
    "    'database': 'goodgrades_db',\n",
    "}\n",
    "# -----------------------------------------------------------------------------------------------------------------------"
   ]
  },
  {
   "cell_type": "code",
   "execution_count": 4,
   "id": "8ea18fd6-0db7-40fe-a5bb-a927d5bb6594",
   "metadata": {},
   "outputs": [],
   "source": [
    "#cnx = mysql.connector.connect(**config)\n",
    "#cur = cnx.cursor(buffered=True)\n",
    "#Connexion establishment ------------------------------------------------------------------------------------------------\n",
    "cnx = pymysql.connect(**config)\n",
    "cur = cnx.cursor()\n",
    "# -----------------------------------------------------------------------------------------------------------------------"
   ]
  },
  {
   "cell_type": "code",
   "execution_count": 5,
   "id": "9cb0428c-6f1d-4ac2-a2a3-a5716d9a75ad",
   "metadata": {
    "scrolled": true
   },
   "outputs": [
    {
     "data": {
      "text/plain": [
       "0"
      ]
     },
     "execution_count": 5,
     "metadata": {},
     "output_type": "execute_result"
    }
   ],
   "source": [
    "#Create table if not exist ----------------------------------------------------------------------------------------------\n",
    "cur.execute(\"\"\"CREATE TABLE IF NOT EXISTS goodgrades (\n",
    "id VARCHAR(30),\n",
    "utilisateur VARCHAR(70),\n",
    "ecole VARCHAR(70),\n",
    "langue VARCHAR(70),\n",
    "annees VARCHAR(20),\n",
    "session VARCHAR(100),\n",
    "competence VARCHAR(100),\n",
    "diplome VARCHAR(100),\n",
    "question_type INT,\n",
    "question_numero INT,\n",
    "support TEXT,\n",
    "enonce TEXT,\n",
    "reponse_referente TEXT,\n",
    "reponse_apprenant TEXT,\n",
    "note_sur_10 FLOAT,\n",
    "note FLOAT,\n",
    "note_sur FLOAT,\n",
    "copie LONGBLOB,\n",
    "nom_copie VARCHAR(200))\"\"\"\n",
    ")\n",
    "# -----------------------------------------------------------------------------------------------------------------------"
   ]
  },
  {
   "cell_type": "code",
   "execution_count": 19,
   "id": "dafb3f13-5695-4f1d-baa9-e19e87bf738b",
   "metadata": {
    "scrolled": true
   },
   "outputs": [
    {
     "data": {
      "text/plain": [
       "0"
      ]
     },
     "execution_count": 19,
     "metadata": {},
     "output_type": "execute_result"
    }
   ],
   "source": [
    "cur.execute(\"ALTER TABLE goodgrades ADD COLUMN nom_copie VARCHAR(200)\")"
   ]
  },
  {
   "cell_type": "code",
   "execution_count": 6,
   "id": "b298e5c8-2862-4e46-83f1-b6a8372f8110",
   "metadata": {},
   "outputs": [],
   "source": [
    "#Get question grade ------------------------------------------------------------------------------------------------------\n",
    "def get_question_grade(file, grade_pattern):\n",
    "    target_columns = []\n",
    "    for column in file.columns.tolist():\n",
    "        if re.search(grade_pattern, str(file.at[0, column])):\n",
    "            target_columns.append(column)\n",
    "    return target_columns\n",
    "# ------------------------------------------------------------------------------------------------------------------------"
   ]
  },
  {
   "cell_type": "code",
   "execution_count": 7,
   "id": "44486a55-cf99-40b5-a2e7-e6c0514fd07b",
   "metadata": {},
   "outputs": [],
   "source": [
    "#Extract bareme ---------------------------------------------------------------------------------------------------------\n",
    "def extract_bareme(column):\n",
    "    max_Grade_pattern = r\"Max grade:\\s*(\\d+)\"\n",
    "    if re.search(max_Grade_pattern, column):\n",
    "        match = re.search(max_Grade_pattern, column)\n",
    "        return float(match.group(1))\n",
    "        #insert_data_sql = f\"INSERT INTO goodgrades (note_sur) VALUES ({value})\"\n",
    "        #value = float(match.group(1))\n",
    "        #cur.execute(insert_data_sql, value)\n",
    "        #template.at[j, \"note_sur\"] = float(match.group(1))\n",
    "# ------------------------------------------------------------------------------------------------------------------------"
   ]
  },
  {
   "cell_type": "code",
   "execution_count": 8,
   "id": "e6981c9c-b50c-4351-8296-75f50ed64ff0",
   "metadata": {},
   "outputs": [],
   "source": [
    "#Extract questions -------------------------------------------------------------------------------------------------------\n",
    "def extract_between(file, start_pattern, end_pattern):\n",
    "    extracted_paragraphs = \"\"\n",
    "    if file.endswith(\".docx\"):\n",
    "        file = Document(file)\n",
    "        is_inside_paragraph = False\n",
    "        for paragraph in file.paragraphs:\n",
    "            if re.search(end_pattern, paragraph.text, re.I):\n",
    "                break\n",
    "            if re.search(start_pattern, paragraph.text, re.I):\n",
    "                is_inside_paragraph = True\n",
    "            if is_inside_paragraph:\n",
    "                extracted_paragraphs += (\"\\n\" + paragraph.text)\n",
    "        #print(\"non-docx :\", file)\n",
    "    elif file.endswith(\".pdf\"):\n",
    "        text = \"\"\n",
    "        file = PyPDF2.PdfReader(file)\n",
    "        for num_page in range(len(file.pages)):\n",
    "            page = file.pages[num_page]\n",
    "            text += page.extract_text()\n",
    "        #print(type(text))\n",
    "        result = re.findall(f\"{start_pattern}(.*?){end_pattern}\", text, re.DOTALL)\n",
    "        # Check if the patterns were found and extract the text\n",
    "        if result:\n",
    "            extracted_paragraphs = result[0]\n",
    "            print(extracted_paragraphs)\n",
    "    return extracted_paragraphs\n",
    "# ------------------------------------------------------------------------------------------------------------------------"
   ]
  },
  {
   "cell_type": "code",
   "execution_count": 9,
   "id": "a923a4ff-3ae8-43d0-a9f7-bc70dda928f9",
   "metadata": {},
   "outputs": [],
   "source": [
    "#Insert data into the database -------------------------------------------------------------------------------------------\n",
    "def insert_data(table_name, data_dict):\n",
    "    # Generate the SQL statement dynamically\n",
    "    columns = ', '.join(data_dict.keys())\n",
    "    placeholders = ', '.join(['%s' for _ in data_dict.values()])\n",
    "    insert_data_sql = f\"INSERT INTO {table_name} ({columns}) VALUES ({placeholders})\"\n",
    "    \n",
    "    # Extract the values from the data_dict\n",
    "    values = tuple(data_dict.values())\n",
    "    \n",
    "    # Execute the SQL statement with the values\n",
    "    cur.execute(insert_data_sql, values)\n",
    "    cnx.commit()\n",
    "# -------------------------------------------------------------------------------------------------------------------------"
   ]
  },
  {
   "cell_type": "code",
   "execution_count": 10,
   "id": "50bce82e-d49d-4471-a64a-da7b02885a1b",
   "metadata": {},
   "outputs": [],
   "source": [
    "#Insert file --------------------------------------------------------------------------------------------------------------\n",
    "def insert_file(file):\n",
    "    with open(file, \"rb\") as file:\n",
    "        file_content = file.read()\n",
    "    return file_content\n",
    "# ------------------------------------------------------------------------------------------------------------------------"
   ]
  },
  {
   "cell_type": "code",
   "execution_count": 11,
   "id": "4c77ca16-0ba2-48eb-a07d-b3c8c25408ae",
   "metadata": {},
   "outputs": [],
   "source": [
    "#Extract name and grades -------------------------------------------------------------------------------------------------\n",
    "def extract_all(file, question_type, question_numero, ecole, langue, annees, session, competence, bareme, support, enonce,reponse, reponse_referente, name_index, column, grade_pattern, copie, nom_copie):\n",
    "    if re.search(grade_pattern, str(file.at[name_index, column])):\n",
    "        match = re.search(grade_pattern, str(file.at[name_index, column]))\n",
    "        data = {\n",
    "            \"utilisateur\" : file.iloc[name_index, 0],\n",
    "            \"ecole\" : ecole,\n",
    "            \"langue\" : langue,\n",
    "            \"annees\" : annees,\n",
    "            \"session\" : session,\n",
    "            \"competence\" : competence,\n",
    "            \"note\" : float(match.group(1)),\n",
    "            \"note_sur\" : bareme,\n",
    "            \"note_sur_10\" : round(float(match.group(1))*10/bareme, 2),\n",
    "            \"support\" : support,\n",
    "            \"enonce\" : enonce,\n",
    "            \"question_type\" : question_type,\n",
    "            \"question_numero\" : question_numero,\n",
    "            \"reponse_referente\" : reponse_referente,\n",
    "            \"reponse_apprenant\" : reponse,\n",
    "            \"copie\" : copie,\n",
    "            \"nom_copie\" : nom_copie\n",
    "        }\n",
    "        insert_data(\"goodgrades\", data)\n",
    "        # template.at[j, \"note\"] = float(match.group(1))\n",
    "        # template.at[j, \"note_sur\"] = bareme\n",
    "        # template.at[j, \"utilisateur\"] = file.iloc[name_index, 0]\n",
    "        #->template.at[j, \"note_sur_10\"] = round(template.at[j, \"note\"]*10/template.at[j, \"note_sur\"], 2)\n",
    "    else :\n",
    "        data = {\n",
    "            \"utilisateur\" : file.iloc[name_index, 0],\n",
    "            \"ecole\" : ecole,\n",
    "            \"langue\" : langue,\n",
    "            \"annees\" : annees,\n",
    "            \"session\" : session,\n",
    "            \"competence\" : competence,\n",
    "            \"note\" : float(file.at[name_index, column]),\n",
    "            \"note_sur\" : bareme,\n",
    "            \"note_sur_10\" : round(float(match.group(1))*10/bareme, 2),\n",
    "            \"support\" : support,\n",
    "            \"enonce\" : enonce,\n",
    "            \"question_type\" : question_type,\n",
    "            \"question_numero\" : question_numero,\n",
    "            \"reponse_referente\" : reponse_referente,\n",
    "            \"reponse_apprenant\" : reponse,\n",
    "            \"copie\" : copie,\n",
    "            \"nom_copie\" : nom_copie\n",
    "        }\n",
    "        insert_data(\"goodgrades\", data)\n",
    "        # template.at[j, \"note\"] = float(file.at[name_index, column])\n",
    "        # template.at[j, \"note_sur\"] = bareme\n",
    "        # template.at[j, \"utilisateur\"] = file.iloc[name_index, 0]\n",
    "        #->template.at[j, \"note_sur_10\"] = round(template.at[j, \"note\"]*10/template.at[j, \"note_sur\"], 2)\n",
    "#-------------------------------------------------------------------------------------------------------------------------"
   ]
  },
  {
   "cell_type": "code",
   "execution_count": 12,
   "id": "98c482cd-fa38-4e52-931c-c6c3b09b0cd4",
   "metadata": {},
   "outputs": [],
   "source": [
    "#Extraction support ------------------------------------------------------------------------------------------------------\n",
    "def extract_support(file):\n",
    "    support = \"\"\n",
    "    if file.endswith(\".docx\"):\n",
    "        doc = Document(file)\n",
    "        for paragraph in doc.paragraphs:\n",
    "            support += paragraph.text\n",
    "    elif file.endswith(\".pdf\"):\n",
    "        doc = PyPDF2.PdfReader(file)\n",
    "        for page_num in range(doc.numPages):\n",
    "            page = doc.getPage(page_num)\n",
    "            support += page.extract_text()\n",
    "    return support\n",
    "# ------------------------------------------------------------------------------------------------------------------------"
   ]
  },
  {
   "cell_type": "code",
   "execution_count": 29,
   "id": "4ca65524-f69c-4257-8677-84f845dcf6fc",
   "metadata": {},
   "outputs": [],
   "source": [
    "#Extraction --------------------------------------------------------------------------------------------------------------\n",
    "def run_extraction(grade):\n",
    "    file = pd.read_excel(grade)\n",
    "    grade_pattern = r\"Grade:\\s*(\\d+\\.?\\d*)\"\n",
    "    target_columns = get_question_grade(file, grade_pattern) #Take the list of cells who contains the grades \n",
    "    start_pattern, end_pattern = get_patterns(subject_Folder + subject) #Take the patterns\n",
    "    ecole = input(\"Entrez la nom de l'établissement :\")\n",
    "    annees = input(\"Année scolaire :\")\n",
    "    session = input(\"Session :\")\n",
    "    competence = input(\"Examen :\")\n",
    "    j,k = 0,0 #For looping the row and filling baremes\n",
    "    cur.execute(\"TRUNCATE TABLE goodgrades\")\n",
    "    for name_index in range(file.shape[0]):\n",
    "        for column in target_columns:\n",
    "            answer_Folder = students_answer_Folder + file.iloc[name_index][0] + \"/\"\n",
    "            #there_is_Table_or_image = check_table_or_image(answer_Folder + get_file(answer_Folder))\n",
    "            extract_all(file,\n",
    "                        1 if len(extract_between(reference_Folder + reference, start_pattern[k], end_pattern[k]))>300 else 2,\n",
    "                        k + 1,\n",
    "                        ecole,\n",
    "                        langdetect.detect(extract_between(reference_Folder + reference, start_pattern[k], end_pattern[k])).upper(),\n",
    "                        annees,\n",
    "                        session,\n",
    "                        competence,\n",
    "                        extract_bareme(column),\n",
    "                        extract_support(subject_Folder + subject),\n",
    "                        extract_between(subject_Folder + subject, start_pattern[k], end_pattern[k]), \n",
    "                        extract_between(answer_Folder + get_file(answer_Folder), start_pattern[k], end_pattern[k]),\n",
    "                        extract_between(reference_Folder + reference, start_pattern[k], end_pattern[k]),\n",
    "                        name_index,\n",
    "                        column, \n",
    "                        grade_pattern,\n",
    "                        insert_file(answer_Folder + get_file(answer_Folder)),\n",
    "                        get_file(answer_Folder)\n",
    "                       )\n",
    "\n",
    "            # template.at[j, \"enonce\"] = extract_between(subject_Folder + subject, start_pattern[k], end_pattern[k]) #Extract questions\n",
    "            # template.at[j, \"reponse_apprenant\"] = extract_between(answer_Folder + get_file(answer_Folder), start_pattern[k], end_pattern[k])\n",
    "            if k>len(target_columns)-2:\n",
    "                k = 0\n",
    "            else :\n",
    "                k += 1\n",
    "            # j += 1\n",
    "    #template.to_excel(\"tmplt.xlsx\")\n",
    "# ------------------------------------------------------------------------------------------------------------------------"
   ]
  },
  {
   "cell_type": "code",
   "execution_count": 30,
   "id": "ad8e0476-468f-4c6a-9a6e-8fe2786c85a0",
   "metadata": {
    "scrolled": true
   },
   "outputs": [
    {
     "name": "stdin",
     "output_type": "stream",
     "text": [
      "Entrez la nom de l'établissement : f\n",
      "Année scolaire : f\n",
      "Session : f\n",
      "Examen : f\n"
     ]
    },
    {
     "name": "stderr",
     "output_type": "stream",
     "text": [
      "/var/folders/z2/jb7rjrbd1hng0vqrvdy_bz9w0000gn/T/ipykernel_1441/541192780.py:17: FutureWarning: Series.__getitem__ treating keys as positions is deprecated. In a future version, integer keys will always be treated as labels (consistent with DataFrame behavior). To access a value by position, use `ser.iloc[pos]`\n",
      "  answer_Folder = students_answer_Folder + file.iloc[name_index][0] + \"/\"\n"
     ]
    },
    {
     "name": "stdout",
     "output_type": "stream",
     "text": [
      " \n",
      " \n",
      " \n",
      " \n",
      " \n",
      " \n",
      " \n",
      "\n",
      "\n",
      "\n",
      "\n",
      "\n",
      "\n",
      "\n",
      " \n",
      " \n",
      " \n",
      " \n",
      " \n",
      " \n",
      " \n",
      " \n",
      " \n",
      " \n",
      " \n",
      " \n",
      " \n",
      " \n",
      " \n",
      " \n",
      " \n",
      " \n",
      " \n",
      " \n",
      " \n",
      " \n",
      " \n",
      " \n",
      " \n",
      " \n",
      " \n",
      " \n",
      " \n",
      " \n",
      " \n",
      " \n",
      " \n",
      " \n",
      " \n"
     ]
    }
   ],
   "source": [
    "run_extraction(grades_Folder + grade)"
   ]
  },
  {
   "cell_type": "code",
   "execution_count": 19,
   "id": "1be1f430-01eb-414d-847a-dbb66b46b46b",
   "metadata": {},
   "outputs": [],
   "source": [
    "df = pd.read_csv(\"goodgrades_comma.csv\")"
   ]
  },
  {
   "cell_type": "code",
   "execution_count": 20,
   "id": "1068565b-1bcb-4d19-8bc0-b962074028d4",
   "metadata": {},
   "outputs": [],
   "source": [
    "df.to_excel(\"goodgrades.xlsx\", index=False)"
   ]
  },
  {
   "cell_type": "code",
   "execution_count": null,
   "id": "fef5e699-aa43-47ee-81d3-8339b79ed887",
   "metadata": {},
   "outputs": [],
   "source": [
    "# Specify the file name you want to retrieve (including the file extension)\n",
    "file_name = \"your_file_name.docx\"  # Replace with the actual file name\n",
    "\n",
    "# Initialize the database connection\n",
    "connection = mysql.connector.connect(**db_config)\n",
    "\n",
    "# Prepare an SQL SELECT statement to retrieve the file content by name\n",
    "select_sql = \"SELECT file_content FROM your_table_name WHERE file_name = %s\"\n",
    "\n",
    "# Execute the SQL SELECT statement with the file name\n",
    "cur.execute(select_sql, (file_name,))\n",
    "\n",
    "# Fetch the binary file content\n",
    "file_content = cursor.fetchone()[0]\n",
    "\n",
    "# Specify the directory where you want to save the retrieved file\n",
    "output_directory = \"/path/to/output/directory\"  # Replace with the desired directory path\n",
    "\n",
    "# Create the output directory if it doesn't exist\n",
    "os.makedirs(output_directory, exist_ok=True)\n",
    "\n",
    "# Create the full path for the output file by combining the directory and the original file name\n",
    "output_file_path = os.path.join(output_directory, file_name)\n",
    "\n",
    "# Write the binary content to the output file with the original file name and extension\n",
    "with open(output_file_path, \"wb\") as output_file:\n",
    "    output_file.write(file_content)\n",
    "\n",
    "# You can now work with the retrieved file (e.g., open it as a DOCX or PDF)\n",
    "# Depending on the file format, you may need to use libraries such as python-docx or PyPDF2\n"
   ]
  },
  {
   "cell_type": "code",
   "execution_count": 63,
   "id": "c00d6147-bb30-4450-8dd8-f6c9f4f536be",
   "metadata": {},
   "outputs": [
    {
     "name": "stderr",
     "output_type": "stream",
     "text": [
      "IOPub data rate exceeded.\n",
      "The Jupyter server will temporarily stop sending output\n",
      "to the client in order to avoid crashing it.\n",
      "To change this limit, set the config variable\n",
      "`--ServerApp.iopub_data_rate_limit`.\n",
      "\n",
      "Current values:\n",
      "ServerApp.iopub_data_rate_limit=1000000.0 (bytes/sec)\n",
      "ServerApp.rate_limit_window=3.0 (secs)\n",
      "\n"
     ]
    }
   ],
   "source": [
    "select_all_rows_sql = \"SELECT * FROM goodgrades\"\n",
    "\n",
    "# Execute the SQL statement to retrieve all rows from the table\n",
    "cur.execute(select_all_rows_sql)\n",
    "\n",
    "# Fetch all the rows from the result set\n",
    "rows = cur.fetchall()\n",
    "\n",
    "# Print the contents of the table\n",
    "if rows:\n",
    "    print(\"Table contents:\")\n",
    "    for row in rows:\n",
    "        print(row)\n",
    "else:\n",
    "    print(\"Table is empty\")\n",
    "\n",
    "#cur.close()\n",
    "#cnx.close()"
   ]
  },
  {
   "cell_type": "code",
   "execution_count": null,
   "id": "df8bf2ec-3de4-470e-aa5b-c468d4852969",
   "metadata": {},
   "outputs": [],
   "source": []
  }
 ],
 "metadata": {
  "kernelspec": {
   "display_name": "Python 3 (ipykernel)",
   "language": "python",
   "name": "python3"
  },
  "language_info": {
   "codemirror_mode": {
    "name": "ipython",
    "version": 3
   },
   "file_extension": ".py",
   "mimetype": "text/x-python",
   "name": "python",
   "nbconvert_exporter": "python",
   "pygments_lexer": "ipython3",
   "version": "3.11.5"
  }
 },
 "nbformat": 4,
 "nbformat_minor": 5
}
