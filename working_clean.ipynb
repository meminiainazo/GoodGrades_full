{
 "cells": [
  {
   "cell_type": "code",
   "execution_count": 1,
   "id": "03ee214d-02c8-4f55-965f-868bc8df9efc",
   "metadata": {},
   "outputs": [],
   "source": [
    "import pandas as pd\n",
    "import re\n",
    "from fill_variables import *"
   ]
  },
  {
   "cell_type": "code",
   "execution_count": 2,
   "id": "9933be30-77eb-4a24-a232-0fdfef3b7c0a",
   "metadata": {},
   "outputs": [],
   "source": [
    "#Global file ------------------------------------------------------------------------------------------------------------\n",
    "template = pd.read_excel(\"template.xlsx\")\n",
    "grades_Folder = \"grades/\"\n",
    "file = get_file(grades_Folder)\n",
    "# -----------------------------------------------------------------------------------------------------------------------"
   ]
  },
  {
   "cell_type": "code",
   "execution_count": 3,
   "id": "b298e5c8-2862-4e46-83f1-b6a8372f8110",
   "metadata": {},
   "outputs": [],
   "source": [
    "#Get question grade ------------------------------------------------------------------------------------------------------\n",
    "def get_question_grade(file, grade_pattern):\n",
    "    target_columns = []\n",
    "    for column in file.columns.tolist():\n",
    "        if re.search(grade_pattern, str(file.at[0, column])):\n",
    "            target_columns.append(column)\n",
    "    return target_columns\n",
    "# ------------------------------------------------------------------------------------------------------------------------"
   ]
  },
  {
   "cell_type": "code",
   "execution_count": 4,
   "id": "44486a55-cf99-40b5-a2e7-e6c0514fd07b",
   "metadata": {},
   "outputs": [],
   "source": [
    "#Extract bareme ---------------------------------------------------------------------------------------------------------\n",
    "def extract_bareme(file, grade_pattern):\n",
    "    max_Grade_pattern = r\"Max grade:\\s*(\\d+)\"\n",
    "    grades_column_name = get_question_grade(file, grade_pattern)\n",
    "    i = 0\n",
    "    for column in grades_column_name:\n",
    "        if re.search(max_Grade_pattern, column):\n",
    "            match = re.search(max_Grade_pattern, column)\n",
    "            template.at[i, \"note_sur\"] = float(match.group(1))\n",
    "            i += 1\n",
    "# ------------------------------------------------------------------------------------------------------------------------"
   ]
  },
  {
   "cell_type": "code",
   "execution_count": 5,
   "id": "4c77ca16-0ba2-48eb-a07d-b3c8c25408ae",
   "metadata": {},
   "outputs": [],
   "source": [
    "#Extract name and grades -------------------------------------------------------------------------------------------------\n",
    "def extract_name_and_grades(file):\n",
    "    file = pd.read_excel(file)\n",
    "    grade_pattern = r\"Grade:\\s*(\\d+\\.?\\d*)\"\n",
    "    target_columns = get_question_grade(file, grade_pattern)\n",
    "    extract_bareme(file, grade_pattern)\n",
    "    j,k = 0,0\n",
    "    for name_index in range(file.shape[0]):\n",
    "        for column in target_columns:\n",
    "            if re.search(grade_pattern, str(file.at[name_index, column])):\n",
    "                match = re.search(grade_pattern, str(file.at[name_index, column]))\n",
    "                template.at[j, \"note\"] = float(match.group(1))\n",
    "                template.at[j, \"note_sur\"] = template.at[k, \"note_sur\"]\n",
    "                template.at[j, \"utilisateur\"] = file.iloc[name_index, 0]\n",
    "                template.at[j, \"note_sur_10\"] = round(template.at[j, \"note\"]*10/template.at[j, \"note_sur\"], 2)\n",
    "                if k>=7:\n",
    "                    k = 0\n",
    "                else :\n",
    "                    k += 1\n",
    "                j += 1\n",
    "            else :\n",
    "                template.at[j, \"note\"] = file.at[name_index, column]\n",
    "                template.at[j, \"note_sur\"] = template.at[k, \"note_sur\"]\n",
    "                template.at[j, \"utilisateur\"] = file.iloc[name_index, 0]\n",
    "                template.at[j, \"note_sur_10\"] = round(template.at[j, \"note\"]*10/template.at[j, \"note_sur\"], 2)\n",
    "                if k>=7:\n",
    "                    k = 0\n",
    "                else :\n",
    "                    k += 1\n",
    "                j += 1\n",
    "    template.to_excel(\"tmplt.xlsx\")\n",
    "#-------------------------------------------------------------------------------------------------------------------------"
   ]
  },
  {
   "cell_type": "code",
   "execution_count": 6,
   "id": "ad8e0476-468f-4c6a-9a6e-8fe2786c85a0",
   "metadata": {},
   "outputs": [],
   "source": [
    "extract_name_and_grades(grades_Folder + file)"
   ]
  },
  {
   "cell_type": "code",
   "execution_count": null,
   "id": "c00d6147-bb30-4450-8dd8-f6c9f4f536be",
   "metadata": {},
   "outputs": [],
   "source": []
  }
 ],
 "metadata": {
  "kernelspec": {
   "display_name": "Python 3 (ipykernel)",
   "language": "python",
   "name": "python3"
  },
  "language_info": {
   "codemirror_mode": {
    "name": "ipython",
    "version": 3
   },
   "file_extension": ".py",
   "mimetype": "text/x-python",
   "name": "python",
   "nbconvert_exporter": "python",
   "pygments_lexer": "ipython3",
   "version": "3.11.5"
  }
 },
 "nbformat": 4,
 "nbformat_minor": 5
}
