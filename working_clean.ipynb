{
 "cells": [
  {
   "cell_type": "code",
   "execution_count": 71,
   "id": "03ee214d-02c8-4f55-965f-868bc8df9efc",
   "metadata": {},
   "outputs": [],
   "source": [
    "import pandas as pd\n",
    "import re\n",
    "from fill_variables import *\n",
    "from patterns import *\n",
    "from docx import Document\n",
    "import PyPDF2\n",
    "import mysql.connector"
   ]
  },
  {
   "cell_type": "code",
   "execution_count": 72,
   "id": "9933be30-77eb-4a24-a232-0fdfef3b7c0a",
   "metadata": {},
   "outputs": [],
   "source": [
    "#Global file ------------------------------------------------------------------------------------------------------------\n",
    "template = pd.read_excel(\"template.xlsx\")\n",
    "grades_Folder = \"grades/\"\n",
    "subject_Folder = \"subject/\"\n",
    "students_answer_Folder = \"students_answer/\"\n",
    "file = get_file(grades_Folder)\n",
    "subject = get_file(subject_Folder)\n",
    "# -----------------------------------------------------------------------------------------------------------------------"
   ]
  },
  {
   "cell_type": "code",
   "execution_count": 73,
   "id": "64c7a9a3-b2ca-4ccc-bd7f-b7952c61ef13",
   "metadata": {},
   "outputs": [],
   "source": [
    "config = {\n",
    "    'user': 'goodgrades',\n",
    "    'password': 'goodgrades',\n",
    "    'host': '127.0.0.1',\n",
    "    'database': 'goodgrades',\n",
    "}"
   ]
  },
  {
   "cell_type": "code",
   "execution_count": 74,
   "id": "8ea18fd6-0db7-40fe-a5bb-a927d5bb6594",
   "metadata": {},
   "outputs": [],
   "source": [
    "cnx = mysql.connector.connect(**config)\n",
    "cur = cnx.cursor(buffered=True)"
   ]
  },
  {
   "cell_type": "code",
   "execution_count": 75,
   "id": "9cb0428c-6f1d-4ac2-a2a3-a5716d9a75ad",
   "metadata": {},
   "outputs": [],
   "source": [
    "cur.execute(\"\"\"CREATE TABLE IF NOT EXISTS goodgrades_2 (\n",
    "id VARCHAR(30),\n",
    "utilisateur VARCHAR(70),\n",
    "ecole VARCHAR(30),\n",
    "langue VARCHAR(30),\n",
    "annees VARCHAR(20),\n",
    "session VARCHAR(50),\n",
    "competence VARCHAR(50),\n",
    "diplome VARCHAR(70),\n",
    "question_type INT,\n",
    "question_numero INT,\n",
    "support VARCHAR(2000),\n",
    "enonce VARCHAR(1000),\n",
    "reponse_referente VARCHAR(1000),\n",
    "reponse_apprenant VARCHAR(1000),\n",
    "note_sur_10 FLOAT,\n",
    "note FLOAT,\n",
    "note_sur FLOAT)\"\"\"\n",
    ")"
   ]
  },
  {
   "cell_type": "code",
   "execution_count": 76,
   "id": "b298e5c8-2862-4e46-83f1-b6a8372f8110",
   "metadata": {},
   "outputs": [],
   "source": [
    "#Get question grade ------------------------------------------------------------------------------------------------------\n",
    "def get_question_grade(file, grade_pattern):\n",
    "    target_columns = []\n",
    "    for column in file.columns.tolist():\n",
    "        if re.search(grade_pattern, str(file.at[0, column])):\n",
    "            target_columns.append(column)\n",
    "    return target_columns\n",
    "# ------------------------------------------------------------------------------------------------------------------------"
   ]
  },
  {
   "cell_type": "code",
   "execution_count": 77,
   "id": "44486a55-cf99-40b5-a2e7-e6c0514fd07b",
   "metadata": {},
   "outputs": [],
   "source": [
    "#Extract bareme ---------------------------------------------------------------------------------------------------------\n",
    "def extract_bareme(column):\n",
    "    max_Grade_pattern = r\"Max grade:\\s*(\\d+)\"\n",
    "    if re.search(max_Grade_pattern, column):\n",
    "        match = re.search(max_Grade_pattern, column)\n",
    "        return float(match.group(1))\n",
    "        #insert_data_sql = f\"INSERT INTO goodgrades (note_sur) VALUES ({value})\"\n",
    "        #value = float(match.group(1))\n",
    "        #cur.execute(insert_data_sql, value)\n",
    "        #template.at[j, \"note_sur\"] = float(match.group(1))\n",
    "# ------------------------------------------------------------------------------------------------------------------------"
   ]
  },
  {
   "cell_type": "code",
   "execution_count": 18,
   "id": "a5d51fc4-3415-4ac4-9ff5-6f8f6f4695b2",
   "metadata": {},
   "outputs": [],
   "source": [
    "grade = pd.read_excel(grades_Folder + file)"
   ]
  },
  {
   "cell_type": "code",
   "execution_count": 20,
   "id": "58435b95-b62f-4068-8b77-723d69d91479",
   "metadata": {},
   "outputs": [
    {
     "data": {
      "text/plain": [
       "2.0"
      ]
     },
     "execution_count": 20,
     "metadata": {},
     "output_type": "execute_result"
    }
   ],
   "source": [
    "extract_bareme(grade, r\"Grade:\\s*(\\d+\\.?\\d*)\", get_question_grade(grade, r\"Grade:\\s*(\\d+\\.?\\d*)\")[0])"
   ]
  },
  {
   "cell_type": "code",
   "execution_count": 16,
   "id": "579e66a1-d09b-4651-bb3d-c213969fd304",
   "metadata": {},
   "outputs": [
    {
     "data": {
      "text/plain": [
       "['Q1\\xa0: ANALYSE DES RISQUES',\n",
       " 'Q2\\xa0: DECLENCHEMENT DE L’AUDIT',\n",
       " 'Q3\\xa0: PLANIFICATION DE L’AUDIT',\n",
       " 'Q4\\xa0: ANALYSE DOCUMENTAIRE',\n",
       " 'Q5\\xa0: REALISATION DE L’AUDIT',\n",
       " 'Q6\\xa0: CONCLUSIONS DE L’AUDIT',\n",
       " 'Q7\\xa0: RECHERCHE DES CAUSES',\n",
       " 'Q8\\xa0: SOLUTIONS']"
      ]
     },
     "execution_count": 16,
     "metadata": {},
     "output_type": "execute_result"
    }
   ],
   "source": [
    "pattern"
   ]
  },
  {
   "cell_type": "code",
   "execution_count": 78,
   "id": "e6981c9c-b50c-4351-8296-75f50ed64ff0",
   "metadata": {},
   "outputs": [],
   "source": [
    "#Extract questions -------------------------------------------------------------------------------------------------------\n",
    "def extract_between(file, start_pattern, end_pattern):\n",
    "    extracted_paragraphs = \"\"\n",
    "    if file.endswith(\".docx\"):\n",
    "        file = Document(file)\n",
    "        is_inside_paragraph = False\n",
    "        for paragraph in file.paragraphs:\n",
    "            if re.search(end_pattern, paragraph.text, re.I):\n",
    "                break\n",
    "            if re.search(start_pattern, paragraph.text, re.I):\n",
    "                is_inside_paragraph = True\n",
    "            if is_inside_paragraph:\n",
    "                extracted_paragraphs += (\"\\n\" + paragraph.text)\n",
    "    # elif file.endswith(\".pdf\"):\n",
    "    #     file = PyPDF2.PdfReader(file)\n",
    "    #     for page_num in range(file.numPages):\n",
    "    #         page = file.getPage(page_num)\n",
    "    #         text += page.extract_text()\n",
    "        \n",
    "\n",
    "    return extracted_paragraphs\n",
    "# ------------------------------------------------------------------------------------------------------------------------"
   ]
  },
  {
   "cell_type": "code",
   "execution_count": 79,
   "id": "a923a4ff-3ae8-43d0-a9f7-bc70dda928f9",
   "metadata": {},
   "outputs": [],
   "source": [
    "def insert_data(table_name, data_dict):\n",
    "    # Generate the SQL statement dynamically\n",
    "    columns = ', '.join(data_dict.keys())\n",
    "    placeholders = ', '.join(['%s' for _ in data_dict.values()])\n",
    "    insert_data_sql = f\"INSERT INTO {table_name} ({columns}) VALUES ({placeholders})\"\n",
    "    \n",
    "    # Extract the values from the data_dict\n",
    "    values = tuple(data_dict.values())\n",
    "    \n",
    "    # Execute the SQL statement with the values\n",
    "    cur.execute(insert_data_sql, values)"
   ]
  },
  {
   "cell_type": "code",
   "execution_count": 80,
   "id": "4c77ca16-0ba2-48eb-a07d-b3c8c25408ae",
   "metadata": {},
   "outputs": [],
   "source": [
    "#Extract name and grades -------------------------------------------------------------------------------------------------\n",
    "def extract_all(file, bareme, name_index, column, grade_pattern):\n",
    "    if re.search(grade_pattern, str(file.at[name_index, column])):\n",
    "        match = re.search(grade_pattern, str(file.at[name_index, column]))\n",
    "        data = {\n",
    "            \"note\" : float(match.group(1)),\n",
    "            \"note_sur\" : bareme,\n",
    "            \"utilisateur\" : file.iloc[name_index, 0],\n",
    "            \"note_sur_10\" : round(float(match.group(1))*10/bareme, 2)\n",
    "        }\n",
    "        insert_data(\"goodgrades_2\", data)\n",
    "        # template.at[j, \"note\"] = float(match.group(1))\n",
    "        # template.at[j, \"note_sur\"] = bareme\n",
    "        # template.at[j, \"utilisateur\"] = file.iloc[name_index, 0]\n",
    "        #->template.at[j, \"note_sur_10\"] = round(template.at[j, \"note\"]*10/template.at[j, \"note_sur\"], 2)\n",
    "    else :\n",
    "        data = {\n",
    "            \"note\" : float(file.at[name_index, column]),\n",
    "            \"note_sur\" : bareme,\n",
    "            \"utilisateur\" : file.iloc[name_index, 0],\n",
    "            \"note_sur_10\" : round(float(match.group(1))*10/bareme, 2)\n",
    "        }\n",
    "        insert_data(\"goodgrades_2\", data)\n",
    "        # template.at[j, \"note\"] = float(file.at[name_index, column])\n",
    "        # template.at[j, \"note_sur\"] = bareme\n",
    "        # template.at[j, \"utilisateur\"] = file.iloc[name_index, 0]\n",
    "        #->template.at[j, \"note_sur_10\"] = round(template.at[j, \"note\"]*10/template.at[j, \"note_sur\"], 2)\n",
    "#-------------------------------------------------------------------------------------------------------------------------"
   ]
  },
  {
   "cell_type": "code",
   "execution_count": 81,
   "id": "4ca65524-f69c-4257-8677-84f845dcf6fc",
   "metadata": {},
   "outputs": [],
   "source": [
    "#Extraction --------------------------------------------------------------------------------------------------------------\n",
    "def run_extraction(grade):\n",
    "    file = pd.read_excel(grade)\n",
    "    grade_pattern = r\"Grade:\\s*(\\d+\\.?\\d*)\"\n",
    "    target_columns = get_question_grade(file, grade_pattern) #Take the list of cells who contains the grades \n",
    "    start_pattern, end_pattern = get_patterns(subject_Folder + subject) #Take the patterns\n",
    "    j,k = 0,0 #For looping the row and filling baremes\n",
    "    for name_index in range(file.shape[0]):\n",
    "        for column in target_columns:\n",
    "            extract_all(file, extract_bareme(column), name_index, column, grade_pattern) #Extract name and grades - bareme -> template.at[k, \"note_sur\"]\n",
    "            \n",
    "            # template.at[j, \"enonce\"] = extract_between(subject_Folder + subject, start_pattern[k], end_pattern[k]) #Extract questions\n",
    "            # answer_Folder = students_answer_Folder + file.iloc[name_index][0] + \"/\"\n",
    "            # template.at[j, \"reponse_apprenant\"] = extract_between(answer_Folder + get_file(answer_Folder), start_pattern[k], end_pattern[k])\n",
    "            # if k>len(target_columns)-2:\n",
    "            #     k = 0\n",
    "            # else :\n",
    "            #     k += 1\n",
    "            # j += 1\n",
    "    #template.to_excel(\"tmplt.xlsx\")\n",
    "# ------------------------------------------------------------------------------------------------------------------------"
   ]
  },
  {
   "cell_type": "code",
   "execution_count": 85,
   "id": "ad8e0476-468f-4c6a-9a6e-8fe2786c85a0",
   "metadata": {},
   "outputs": [],
   "source": [
    "extraction(grades_Folder + file)"
   ]
  },
  {
   "cell_type": "code",
   "execution_count": 86,
   "id": "c00d6147-bb30-4450-8dd8-f6c9f4f536be",
   "metadata": {},
   "outputs": [
    {
     "name": "stdout",
     "output_type": "stream",
     "text": [
      "Table is empty\n"
     ]
    }
   ],
   "source": [
    "select_all_rows_sql = \"SELECT * FROM goodgrades_2\"\n",
    "\n",
    "# Execute the SQL statement to retrieve all rows from the table\n",
    "cur.execute(select_all_rows_sql)\n",
    "\n",
    "# Fetch all the rows from the result set\n",
    "rows = cur.fetchall()\n",
    "\n",
    "# Print the contents of the table\n",
    "if rows:\n",
    "    print(\"Table contents:\")\n",
    "    for row in rows:\n",
    "        print(row)\n",
    "else:\n",
    "    print(\"Table is empty\")"
   ]
  },
  {
   "cell_type": "code",
   "execution_count": null,
   "id": "df8bf2ec-3de4-470e-aa5b-c468d4852969",
   "metadata": {},
   "outputs": [],
   "source": []
  }
 ],
 "metadata": {
  "kernelspec": {
   "display_name": "Python 3 (ipykernel)",
   "language": "python",
   "name": "python3"
  },
  "language_info": {
   "codemirror_mode": {
    "name": "ipython",
    "version": 3
   },
   "file_extension": ".py",
   "mimetype": "text/x-python",
   "name": "python",
   "nbconvert_exporter": "python",
   "pygments_lexer": "ipython3",
   "version": "3.11.5"
  }
 },
 "nbformat": 4,
 "nbformat_minor": 5
}
