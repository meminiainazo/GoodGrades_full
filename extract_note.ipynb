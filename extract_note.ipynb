{
 "cells": [
  {
   "cell_type": "code",
   "execution_count": 1,
   "id": "0dc568ba-de22-423a-8161-a019fa6b2671",
   "metadata": {},
   "outputs": [],
   "source": [
    "import pandas as pd\n",
    "import re\n",
    "import openpyxl\n",
    "from fill_variables import *"
   ]
  },
  {
   "cell_type": "code",
   "execution_count": 2,
   "id": "2cfde8d8-ff7d-452f-9b66-44d1a5690a07",
   "metadata": {},
   "outputs": [],
   "source": [
    "grades_Folder = \"grades/\""
   ]
  },
  {
   "cell_type": "code",
   "execution_count": 3,
   "id": "3dbd2dc3-bb2e-4d05-8136-458364bb5c13",
   "metadata": {},
   "outputs": [],
   "source": [
    "file = get_file(grades_Folder)"
   ]
  },
  {
   "cell_type": "code",
   "execution_count": 4,
   "id": "1f687b66-eb45-4efa-a59a-c4c5fab629ce",
   "metadata": {},
   "outputs": [
    {
     "data": {
      "text/plain": [
       "'Performance et audit de lorganisation  Hiver 2022 Notes.xlsx'"
      ]
     },
     "execution_count": 4,
     "metadata": {},
     "output_type": "execute_result"
    }
   ],
   "source": [
    "file"
   ]
  },
  {
   "cell_type": "code",
   "execution_count": 5,
   "id": "a9dcbbd1-a15d-44db-93a0-b5c1b05f1bd9",
   "metadata": {},
   "outputs": [],
   "source": [
    "template = pd.read_excel(\"template.xlsx\")"
   ]
  },
  {
   "cell_type": "code",
   "execution_count": 75,
   "id": "37614742-7762-4785-b4f9-c928310ee45e",
   "metadata": {},
   "outputs": [],
   "source": [
    "def extract_bareme(file):\n",
    "    max_Grade_pattern = r\"Max grade:\\s*(\\d+)\"\n",
    "    file = pd.read_excel(file)\n",
    "    nb_Questions = 0\n",
    "    for i in range(len(file.columns.tolist())):\n",
    "        if re.search(max_Grade_pattern, file.columns.tolist()[i]):\n",
    "            match = re.search(max_Grade_pattern, file.columns.tolist()[i])\n",
    "            template.at[i+1, \"note_sur\"] = float(match.group(1))\n",
    "            nb_Questions += 1\n",
    "    template.to_excel(\"tmplt.xlsx\", index=False)\n",
    "    return nb_Questions"
   ]
  },
  {
   "cell_type": "code",
   "execution_count": 121,
   "id": "8514d11a-7d40-4737-97b8-794dab3b85b6",
   "metadata": {},
   "outputs": [],
   "source": [
    "nb_Questions = extract_bareme(grades_Folder + file)"
   ]
  },
  {
   "cell_type": "code",
   "execution_count": 130,
   "id": "acb6d6a6-cc58-480d-a9de-08aa48fe02bb",
   "metadata": {},
   "outputs": [],
   "source": [
    "file = pd.read_excel(grades_Folder + file)"
   ]
  },
  {
   "cell_type": "code",
   "execution_count": 112,
   "id": "c0b69279-ddf8-4ad2-906f-1b92e78add61",
   "metadata": {},
   "outputs": [
    {
     "data": {
      "text/plain": [
       "31"
      ]
     },
     "execution_count": 112,
     "metadata": {},
     "output_type": "execute_result"
    }
   ],
   "source": [
    "file.shape[0]"
   ]
  },
  {
   "cell_type": "code",
   "execution_count": 65,
   "id": "455d7b94-cf92-44f3-897b-0d634be2472f",
   "metadata": {},
   "outputs": [
    {
     "data": {
      "text/plain": [
       "'0s3Qa'"
      ]
     },
     "execution_count": 65,
     "metadata": {},
     "output_type": "execute_result"
    }
   ],
   "source": [
    "file.at[0, 'code']"
   ]
  },
  {
   "cell_type": "code",
   "execution_count": 128,
   "id": "86b8377a-5787-4e05-b890-f9ef73546480",
   "metadata": {},
   "outputs": [],
   "source": [
    "def extract_name_and_grade(file):\n",
    "    grade_pattern = r\"Grade:\\s*(\\d+\\.?\\d*)\"\n",
    "    file = pd.read_excel(file)\n",
    "    j = 0\n",
    "    for name_index in range(file.shape[0]):\n",
    "        for i in range(nb_Questions):\n",
    "            for column in file.columns.tolist():\n",
    "                if re.search(grade_pattern, str(file.at[name_index, column])):\n",
    "                    match = re.search(grade_pattern, str(file.at[name_index, column]))\n",
    "                    template.at[j, \"note\"] = float(match.group(1))\n",
    "            template.at[j, \"utilisateur\"] = file.iloc[name_index, 0]\n",
    "            j += 1\n",
    "    template.to_excel(\"tmplt.xlsx\", index=False)\n",
    "            "
   ]
  },
  {
   "cell_type": "code",
   "execution_count": 129,
   "id": "48dc1c78-d0bc-4e75-921a-2b29e508bfbd",
   "metadata": {},
   "outputs": [],
   "source": [
    "extract_name_and_grade(grades_Folder + file)"
   ]
  },
  {
   "cell_type": "code",
   "execution_count": 10,
   "id": "5259b588-653b-45ea-9634-f192385ac07f",
   "metadata": {},
   "outputs": [],
   "source": [
    "grade_pattern = r\"Grade:\\s*(\\d+\\.?\\d*)\"\n",
    "def get_question_grade(file, grade_pattern):\n",
    "    target_columns = []\n",
    "    for column in file.columns.tolist():\n",
    "        if re.search(grade_pattern, str(file.at[0 , column])):\n",
    "            target_columns.append(column)\n",
    "    return target_columns"
   ]
  },
  {
   "cell_type": "code",
   "execution_count": 134,
   "id": "67a9fe47-cab3-4b05-a4ab-ccb7c79d921c",
   "metadata": {},
   "outputs": [
    {
     "name": "stdout",
     "output_type": "stream",
     "text": [
      "Q1(Max grade: 2)\n",
      "Q2 - (Max grade: 2)\n",
      "Q3 >(Max grade: 3)\n",
      "Q4>(Max grade: 2)\n",
      "Q5 (Max grade: 3)\n",
      "Q6(Max grade: 2)\n",
      "Q7 - >(Max grade: 3)\n",
      "Q8 -(Max grade: 3)\n"
     ]
    }
   ],
   "source": [
    "get_question_grade(file)"
   ]
  },
  {
   "cell_type": "code",
   "execution_count": 13,
   "id": "347a28f3-39f2-4382-872c-2ff46c190138",
   "metadata": {},
   "outputs": [],
   "source": [
    "def extract_name_and_grade(file):\n",
    "    file = pd.read_excel(file)\n",
    "    target_columns = get_question_grade(file)\n",
    "    grade_pattern = r\"Grade:\\s*(\\d+\\.?\\d*)\"\n",
    "    j = 0\n",
    "    for name_index in range(file.shape[0]):\n",
    "        for column in target_columns:\n",
    "            if re.search(grade_pattern, str(file.at[name_index, column])):\n",
    "                matche = re.search(grade_pattern, str(file.at[name_index, column]))\n",
    "                template.at[j, \"note\"] = float(matche.group(1))\n",
    "                template.at[j, \"utilisateur\"] = file.iloc[name_index, 0]\n",
    "                j += 1\n",
    "    template.to_excel(\"tmplt.xlsx\")"
   ]
  },
  {
   "cell_type": "code",
   "execution_count": 14,
   "id": "af0234ee-1fdd-4151-99dc-a9d385e4b120",
   "metadata": {},
   "outputs": [],
   "source": [
    "extract_name_and_grade(grades_Folder + file)"
   ]
  },
  {
   "cell_type": "code",
   "execution_count": null,
   "id": "c623c2e1-c6dd-4829-9191-75bda5b74621",
   "metadata": {},
   "outputs": [],
   "source": []
  }
 ],
 "metadata": {
  "kernelspec": {
   "display_name": "Python 3 (ipykernel)",
   "language": "python",
   "name": "python3"
  },
  "language_info": {
   "codemirror_mode": {
    "name": "ipython",
    "version": 3
   },
   "file_extension": ".py",
   "mimetype": "text/x-python",
   "name": "python",
   "nbconvert_exporter": "python",
   "pygments_lexer": "ipython3",
   "version": "3.11.5"
  }
 },
 "nbformat": 4,
 "nbformat_minor": 5
}
