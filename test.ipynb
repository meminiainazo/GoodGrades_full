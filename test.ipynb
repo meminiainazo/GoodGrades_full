{
 "cells": [
  {
   "cell_type": "code",
   "execution_count": 1,
   "id": "5dbb5d01-c60d-4529-bc00-8b67c3f2043b",
   "metadata": {},
   "outputs": [],
   "source": [
    "import pandas as pd\n",
    "import re\n",
    "from patterns import *\n",
    "import langdetect\n",
    "import PyPDF2"
   ]
  },
  {
   "cell_type": "code",
   "execution_count": 4,
   "id": "0a86571e-fc13-4b07-a149-5c59eccd51b5",
   "metadata": {},
   "outputs": [],
   "source": [
    "text = \"\"\n",
    "file = PyPDF2.PdfReader(\"students_answer/xAFyo/Etude de cas 2023 - processus logistique. ilyes zamalidocx.pdf\")"
   ]
  },
  {
   "cell_type": "code",
   "execution_count": 5,
   "id": "7e702dbf-0f39-4962-932b-c0031aa85b24",
   "metadata": {},
   "outputs": [],
   "source": [
    "for page_num in range(len(file.pages)):\n",
    "    page = file.pages[page_num]\n",
    "    text += page.extract_text()\n",
    "    break"
   ]
  },
  {
   "cell_type": "code",
   "execution_count": 6,
   "id": "bfb20e7a-fdf7-44b1-a9e0-7453a75e6c4e",
   "metadata": {},
   "outputs": [
    {
     "name": "stdout",
     "output_type": "stream",
     "text": [
      "Etude de cas  – Audit de performance  \n",
      "Audit d’une entreprise de distribution  - processus logistique  \n",
      " \n",
      "PRESENTATION DE L’ENTREPRISE  \n",
      "DISTRELECT  est une entreprise de distribution de matériel électrique  à destination de professionnels. \n",
      "Elle achète du matériel électrique à des fournisseurs, le sto cke et le revend à ses clients.  \n",
      "Les clients peuvent venir dans une agence  acheter l e matériel ou le commander et se faire livrer.  \n",
      "La présentation complète de DI STRELEC figure dans le déroulé du cours)  \n",
      " \n",
      " \n",
      "PRESENTATION DU CONTEXTE  \n",
      "A l’agence de Toulon les artisans électriciens sont nos principaux clients, ils s’approvisionnent chez \n",
      "nous pour leur chantier car ils sont satisfaits de l’étendue de notre gamme, de la disponibilité des \n",
      "produits courants, de l’accueil convivial et du conseil de nos vendeurs dans les agences. Il est \n",
      "fréquent qu’un artisan passe le matin à l’agence avant d’aller sur son chantier afin de récupérer du \n",
      "matériel dont il a besoin pour l’install er dans la journée.  \n",
      "Nous sommes donc très vigilants sur la disponibilité de ce type de produit que nous appelons \n",
      "produits A (produits à forte rotation).  \n",
      "Parmi ces produits on trouve les spots encastrables à LED qui sont demandés de plus en plus souvent \n",
      "par les clients de nos artisans.  \n",
      "La particularité de  ces produits c’est que les marques et les modèles sont très nombreux et variés et \n",
      "nécessitent une grande place dans le stock ce qui n’est pas très facile dans cette agence.  \n",
      "La gestion des approvisionnements  de ces produits se fait donc presque «  à flux tendu  » et le niveau \n",
      "de stock est quotidiennement surveillé (en particulier par une bonne gestion de la traçabilité des \n",
      "entrées et sorties  dans le système d’information , des alertes des préparateurs de command e quand \n",
      "ils voient un stock presque vide et la mise en place d’inventaires ciblés chaque semaine).  \n",
      "Nous sommes le 30 janvier et sur le mois de janvier nous avons constaté à 10 reprises une rupture de \n",
      "stock sur l’un de ces produits ce qui a engendré le remp lacement par un produit équivalent dans une \n",
      "autre marque (mais visuellement un peu différent) et provoqué le mécontentement de nos clients.  \n",
      "Le directeur de l’agence a donc décidé de mettre en place un audit de l’organisation.  \n",
      "Le compte rendu d’audit est at tendu pour le 31 mars  \n",
      "Barème  :  \n",
      "Q1 Q2 Q3 Q4 Q5 Q6 Q7 Q8 \n",
      "2 2 3 2 3 2 3 3 \n",
      "  \n"
     ]
    }
   ],
   "source": [
    "print(text)"
   ]
  },
  {
   "cell_type": "code",
   "execution_count": 14,
   "id": "ed60ffe5-8d73-4398-b153-648977672cea",
   "metadata": {},
   "outputs": [],
   "source": [
    "text = \"bonjour je m'appelle zo, This is a text\""
   ]
  },
  {
   "cell_type": "code",
   "execution_count": 15,
   "id": "6f755b8a-118e-4851-803b-8f7a0ad604f1",
   "metadata": {},
   "outputs": [
    {
     "name": "stdout",
     "output_type": "stream",
     "text": [
      "Detected language: en\n"
     ]
    },
    {
     "data": {
      "text/plain": [
       "str"
      ]
     },
     "execution_count": 15,
     "metadata": {},
     "output_type": "execute_result"
    }
   ],
   "source": [
    "# Detect the language\n",
    "detected_language = langdetect.detect(text)\n",
    "\n",
    "# Print the detected language\n",
    "print(\"Detected language:\", detected_language)\n",
    "type(detected_language)"
   ]
  },
  {
   "cell_type": "code",
   "execution_count": 22,
   "id": "b5d6b124-72a8-4c81-8b36-34ff0dcfc9bc",
   "metadata": {
    "scrolled": true
   },
   "outputs": [
    {
     "data": {
      "text/plain": [
       "'Q6 : CONCLUSIONS DE L’AUDIT  \\nRédiger votre conclusion (à imaginer) présentant  :  \\n\\uf046 1 point fort  \\n\\uf046 2 points sensibles  \\n\\uf046 2 écarts  \\n \\nVotre réponse  :  \\n \\nLes conclusions de l ’audit nous ont permis d’identifi er plus éléments  :  \\n- Un point fort  :  \\nLa gestion sur l’optimi sation d e l’espace de st ock est parfaitement respectée . Nous pouvons \\nrelever que les équipes sont sensible à cet enjeu majeur  pour  l’approvisionnement  de l’agence .  \\n \\n- 2 points sensibles  :  \\nLe premier est le relevé  des disfonction nement  identifiés dans les comptes rendus de \\nréunions  notamme nt sur la gest ion d u logiciel et de st ockage .  \\nLe deuxième point  sensible est  la non-connexion  entre le logiciel  de st ocks et le système \\nd’informations interne de la société . Les outils sont en « silos  » et la commun ication entre les \\nservices n’est p as flui de  \\n \\n- 2 écarts  :  \\nLes fiches de pos tes de l’entrepris e ne sont p lus à jour avec l es missions sur certaines \\nfonction s. Les fiches de poste actuel  et les annonces de recrutement sont en décalage  avec \\nles missions de certains coll aborateu rs  \\nLes tableaux de bord s ne sont pas un outil de pilo tage par les managers et les é quipes car les \\ndonnées sont compl exes et  diffic ilement inexploitable . A titre d’exemple,la remont ée \\nd’informations n’est pas à l’instant  T mais S-1   Q7 :'"
      ]
     },
     "execution_count": 22,
     "metadata": {},
     "output_type": "execute_result"
    }
   ],
   "source": [
    "re.search(\"Q6 :(.*?) Q7 :\", text, re.DOTALL)[0]"
   ]
  },
  {
   "cell_type": "code",
   "execution_count": 17,
   "id": "72c15573-637b-4980-b859-dcbc15dc474b",
   "metadata": {},
   "outputs": [],
   "source": [
    "# Define the start and end patterns\n",
    "start_pattern = \"Q1\"\n",
    "end_pattern = \"Q2\"\n",
    "\n",
    "def extract_text_between_patterns(pdf_reader, start_pattern, end_pattern):\n",
    "    # Open the PDF file in read-binary mode\n",
    "    #with open(file, 'rb') as pdf_file:\n",
    "    # Create a PDF reader object\n",
    "        #pdf_reader = PyPDF2.PdfReader(pdf_file)\n",
    "    \n",
    "    # Initialize variables to store extracted text\n",
    "    extracted_text = \"\"\n",
    "    start_flag = False\n",
    "    \n",
    "    # Iterate through each page of the PDF\n",
    "    for page_num in range(len(pdf_reader.pages)):\n",
    "        page = pdf_reader.pages[page_num]\n",
    "        page_text = page.extract_text()\n",
    "        \n",
    "        # Check if the start pattern is found\n",
    "        if re.search(start_pattern, page_text):\n",
    "            start_flag = True\n",
    "        \n",
    "        # If the start pattern is found, append the page text to the result\n",
    "        if start_flag:\n",
    "            extracted_text += page_text\n",
    "            \n",
    "            # Check if the end pattern is found\n",
    "            if re.search(end_pattern, page_text):\n",
    "                break  # Exit the loop if the end pattern is found\n",
    "    \n",
    "    # Close the PDF file\n",
    "    #pdf_file.close()\n",
    "    \n",
    "    return extracted_text\n",
    "\n",
    "\n"
   ]
  },
  {
   "cell_type": "code",
   "execution_count": 18,
   "id": "49767ad4-a122-4f90-b25d-143c21de1e19",
   "metadata": {},
   "outputs": [
    {
     "name": "stdout",
     "output_type": "stream",
     "text": [
      "Etude de cas  – Audit de performance  \n",
      "Audit d’une entreprise de distribution  - processus logistique  \n",
      " \n",
      "PRESENTATION DE L’ENTREPRISE  \n",
      "DISTRELECT  est une entreprise de distribution de matériel électrique  à destination de professionnels. \n",
      "Elle achète du matériel électrique à des fournisseurs, le sto cke et le revend à ses clients.  \n",
      "Les clients peuvent venir dans une agence  acheter l e matériel ou le commander et se faire livrer.  \n",
      "La présentation complète de DI STRELEC figure dans le déroulé du cours)  \n",
      " \n",
      " \n",
      "PRESENTATION DU CONTEXTE  \n",
      "A l’agence de Toulon les artisans électriciens sont nos principaux clients, ils s’approvisionnent chez \n",
      "nous pour leur chantier car ils sont satisfaits de l’étendue de notre gamme, de la disponibilité des \n",
      "produits courants, de l’accueil convivial et du conseil de nos vendeurs dans les agences. Il est \n",
      "fréquent qu’un artisan passe le matin à l’agence avant d’aller sur son chantier afin de récupérer du \n",
      "matériel dont il a besoin pour l’install er dans la journée.  \n",
      "Nous sommes donc très vigilants sur la disponibilité de ce type de produit que nous appelons \n",
      "produits A (produits à forte rotation).  \n",
      "Parmi ces produits on trouve les spots encastrables à LED qui sont demandés de plus en plus souvent \n",
      "par les clients de nos artisans.  \n",
      "La particularité de  ces produits c’est que les marques et les modèles sont très nombreux et variés et \n",
      "nécessitent une grande place dans le stock ce qui n’est pas très facile dans cette agence.  \n",
      "La gestion des approvisionnements  de ces produits se fait donc presque «  à flux tendu  » et le niveau \n",
      "de stock est quotidiennement surveillé (en particulier par une bonne gestion de la traçabilité des \n",
      "entrées et sorties  dans le système d’information , des alertes des préparateurs de command e quand \n",
      "ils voient un stock presque vide et la mise en place d’inventaires ciblés chaque semaine).  \n",
      "Nous sommes le 30 janvier et sur le mois de janvier nous avons constaté à 10 reprises une rupture de \n",
      "stock sur l’un de ces produits ce qui a engendré le remp lacement par un produit équivalent dans une \n",
      "autre marque (mais visuellement un peu différent) et provoqué le mécontentement de nos clients.  \n",
      "Le directeur de l’agence a donc décidé de mettre en place un audit de l’organisation.  \n",
      "Le compte rendu d’audit est at tendu pour le 31 mars  \n",
      "Barème  :  \n",
      "Q1 Q2 Q3 Q4 Q5 Q6 Q7 Q8 \n",
      "2 2 3 2 3 2 3 3 \n",
      "  \n"
     ]
    }
   ],
   "source": [
    "extracted_text = extract_text_between_patterns(file, start_pattern, end_pattern)\n",
    "\n",
    "# Print the extracted text\n",
    "print(extracted_text)\n"
   ]
  },
  {
   "cell_type": "code",
   "execution_count": 13,
   "id": "828716fe-7ea4-4672-a4ab-2ff35436c3ad",
   "metadata": {
    "scrolled": true
   },
   "outputs": [
    {
     "data": {
      "text/plain": [
       "'Etude de cas  – Audit de performance  \\nAudit d’une entreprise de distribution  - processus logistique  \\n \\nPRESENTATION DE L’ENTREPRISE  \\nDISTRELECT  est une entreprise de distribution de matériel électrique  à destination de professionnels. \\nElle achète du matériel électrique à des fournisseurs, le sto cke et le revend à ses clients.  \\nLes clients peuvent venir dans une agence  acheter l e matériel ou le commander et se faire livrer.  \\nLa présentation complète de DI STRELEC figure dans le déroulé du cours)  \\n \\n \\nPRESENTATION DU CONTEXTE  \\nA l’agence de Toulon les artisans électriciens sont nos principaux clients, ils s’approvisionnent chez \\nnous pour leur chantier car ils sont satisfaits de l’étendue de notre gamme, de la disponibilité des \\nproduits courants, de l’accueil convivial et du conseil de nos vendeurs dans les agences. Il est \\nfréquent qu’un artisan passe le matin à l’agence avant d’aller sur son chantier afin de récupérer du \\nmatériel dont il a besoin pour l’install er dans la journée.  \\nNous sommes donc très vigilants sur la disponibilité de ce type de produit que nous appelons \\nproduits A (produits à forte rotation).  \\nParmi ces produits on trouve les spots encastrables à LED qui sont demandés de plus en plus souvent \\npar les clients de nos artisans.  \\nLa particularité de  ces produits c’est que les marques et les modèles sont très nombreux et variés et \\nnécessitent une grande place dans le stock ce qui n’est pas très facile dans cette agence.  \\nLa gestion des approvisionnements  de ces produits se fait donc presque «  à flux tendu  » et le niveau \\nde stock est quotidiennement surveillé (en particulier par une bonne gestion de la traçabilité des \\nentrées et sorties  dans le système d’information , des alertes des préparateurs de command e quand \\nils voient un stock presque vide et la mise en place d’inventaires ciblés chaque semaine).  \\nNous sommes le 30 janvier et sur le mois de janvier nous avons constaté à 10 reprises une rupture de \\nstock sur l’un de ces produits ce qui a engendré le remp lacement par un produit équivalent dans une \\nautre marque (mais visuellement un peu différent) et provoqué le mécontentement de nos clients.  \\nLe directeur de l’agence a donc décidé de mettre en place un audit de l’organisation.  \\nLe compte rendu d’audit est at tendu pour le 31 mars  \\nBarème  :  \\nQ1 Q2 Q3 Q4 Q5 Q6 Q7 Q8 \\n2 2 3 2 3 2 3 3 \\n  Q1 : ANALYSE DES RISQUES  \\nQuels sont les risques engendrés par cette situation  \\nEvaluer ces risques  \\nIdentifier ceux qui sont critiques – et pourquoi  (vous pouvez vous servir de la matrice de criticité des \\nrisques)  \\n \\nVotre réponse  :  \\nLes risques engendr és par cette situation de rupture de stock identifié comme produits à forte \\nrotation (catégorie  A), nous pouvons les én umérer ci-dessous  :  \\n- Risque  1 : la perte du chiffre  d’affaires  sur l a vente des produits  \\n- Risque 2 : la perte des clients. Ils peuve nt s’orienter vers d ’autres fournisseurs qui proposent \\nle produit  \\n- Risque 3 : les difficultés à prévoir des  prévisions à la suite de cette situation  \\n- Risque 4  : la notori été : l’entr eprise jouira d ’une  mauv aise réputation  \\n- Risque  5 : l’annulation des commandes par les clients au profit d ’autres fournisseurs  \\n- Risque 6 : augmentation des couts de logistiques  \\nCi après la mat rice de  criticité des ri sques  \\nImpact  \\n \\nProbabilité  Mineur  Significatif  Grave  Catastrophique  \\nTrès  probable      Risque 1  \\n \\nProbable  Risque 3  \\n Risque 4  \\n Risque 2  \\nRisque 5   \\nPeu probable  Risque 6      \\nImprobable      \\n \\nEn synthès e, nous  pouvons relever plusieurs  risques sur la p erformance . Il faut déclencher un audit .  \\n  Q2 : DECLENCHEMENT DE L’AUDIT  \\nQui mandate l’audit  \\nQui va réaliser l’audit (vous pouvez choisir interne ou externe)  \\nSur quels critères l’auditeur est choisi  ? \\n \\nVotre réponse  :  \\nNous pouvons lire que l’audit est mand até par le directeur d ’agence .  \\nIl devient le client d e l’audit et il ser a en charge de désigner l ’auditeur , de valider le champ  de l’audit  \\net il sera le destina taire du rapport  d’audit.  \\nLe directeu r d’agence choisi t le cabinet Audit L ogistique . Il s’agit d’un aud iteur externe  et on compte \\n2 salariés  : 1 auditeur (le Dirigeant de la  société) et une assistante .  \\nGrâce  à son réseau profes sionnel , il a identifié ce ca binet spéc ialisé qui a bonne réputation dans son \\nsecteur d ’activ ité et dans la région .  \\nIl a pu se rens eigner sur l es dispo nibilités ca r l’échéance est très courte.  \\nIl a renco ntré  l’audit eur et valide r ces critères  :  \\n- Le relationnelle,  il est important  que l ’auditeur maitri se le contact humain   \\n- Aussi il est bon c ommunica nt  \\n- L’esprit de  synthès e sur la demande et le contexte  \\n- La bonne compréh ension du cah ier des charges  qui mar que un professionn alisme  \\n- La connaissance du se cteur  est un atout pour comprendr e le contexte et avoir un référentiel  \\n- La disponibilité pour organiser les échanges et les rencontres  \\n- La curiosité et l ’espr it critique  \\n \\n \\n  Q3 : PLANIFICATION DE L’AUDIT  \\nQuelles sont les étapes de l’audit  \\nEtablir le planning de l’audit (en tenant compte des dates prévues)  \\nIdentifier les acteurs de l’audit et leurs responsabilités (utiliser la matrice RACI)  \\n \\nVotre réponse  :  \\nVous  trouverez les différentes étap es de l’audi t \\nCommençons  par définir le périmètre  à auditer  :  \\n- Le service  achat  : nous  nous int éress erons aux processus  d’achat s, la gestion des achats et la \\nrelations avec les fournisseurs  \\n- Le service  logistique  : nous nous focali serons sur l es processus  de gestion logi stique, le \\nlogiciel de g estion des stoc ks  \\n- Le service infor matique pour le système d ’informations  et la gestion  du logiciel de gestion \\ndes stoc ks \\nLa date d’échéance  est fixée  au 15 janvier   \\nEnsuite, nous analyserons  la partie d ocumentaire  :  \\n- Organigramme  de la société  \\n- Procédure de la gestion des stocks  \\n- Procédure de la gestion des  achats  \\n- Les manu els d ’organ isation  \\n- Fiches de  poste  des fonctions suivantes  \\n- Les tableaux de bord  pour le pilotage des act ivités  : achats et gestion  \\n- Les comptes rendus de réunion d’équipes   \\nLa date d ’échéance est le 1er février  \\n \\nLe plan d’audit  à réaliser   \\n- Une comm unication  sur la mise en place de l ’audit . Il faudra commencer  par les managers  \\nLa dat e échéance sera le 25 janvier  \\n- Une commun icatio n sur une pré sentation d u déroulé de l ’audit fixé le 5 févrie r. Il faudra \\ninviter les personnes conc ernée s : les ma nagers et les opérationnels  \\n- Lors de cette prés entation, un p lanning de rendez -vous  sera prés enté  en pré cisant le lieu du \\nrendez -vous  et le déro ulé (entre tien en présentiel  \\n\\uf0a0 Manager des achat s : 15 février à 10h   \\n\\uf0a0 Manager de la suppl y cha in : 15 février à 15h  \\n\\uf0a0 Manager SI  : 17 février à 10h  \\n\\uf0a0 Manager  équipe  commerciale  : 17 février à 15h  \\n\\uf0a0 Un vendeur banque  : 18 février à 10h  \\n\\uf0a0 Un préparateur de commande  : 18 février à 15h  \\n\\uf0a0 Un expéditionnaire  : 19 février à 10h  \\n\\uf0a0 Un approvisionn eur : 19 février à 15h  \\n\\uf0a0 Un réceptionnaire  : 20 févr ier à 10h  \\n\\uf0a0 Un préparateur de commande  : 20 février à 15h  \\n\\uf0a0 Un commerci al itinérant : 21 février à 10h  \\n\\uf0a0 Un gestionnai re du SI  : 21 février à 15h  \\n Une séance d e travail pour présenter les con clusion s du rapport . L’auditeur invitera le \\nmanager de la suppl y chain et le manager des achats . La date est fixé au 15 mars . \\n \\n- Une phase de rédaction  du rapport commencera à partir du 16 m ars  \\n \\n- La livrai son du rapp ort écrit pour l e 31 mars à destination du Directeur d ’agence  \\n \\n \\n \\nQ4 : ANALYSE DOCUMENTAIRE  \\nQuels sont les documents qui pourraient vous aider à préparer cet audit  ? (Soyez  précis, vous pouvez \\nidentifier des documents que DISTRELEC pourrait avoir)  \\n \\nVotre réponse  :  \\nLes documents  nécessaires  pour l ’analyse do cumentaire sont les suivants  :  \\n- L’organi gramme afin de comprendre l’organisation struc turelle  \\n- Les procédures d’achat s afin d ’identifier  le cahier des charges et les processus métiers de ces \\nfonctions support s  \\n- Les procédure s de gestion de st ocks afin de comprendre les mé canismes et les processus  \\nmétiers  et le cahier des charges  \\n- Les procédures de gestion du lo giciel de stocks  : les manuels d’utilisation p our les  \\nopérationn els, le cont rat de prestation pour la ma intenance du lo giciel  \\n- Les fiches de postes des fonctions  audités  (cités ci-dessus )  \\n- Les comptes rendus de réunions des services  : suppl y chain et achat s. L’obje ctif est de \\nconsulter les points aborder et la fréquence de s réunions  \\n- Les rapports d ’activit és annuels  de chaque  service afin d ’identif ier les pistes propos ées dans \\nle ca dre de l ’amélioration continue  \\n- Les tableaux de bor ds sur le  suivi de l ’activité et l a réalisation des objectifs . Ces documents  \\nperm ettront aussi  d’évaluer les objectifs   \\n \\n  Q5 : REALISATION DE L’AUDIT  \\nIdentifier 3 personnes (fonctions) à auditer  \\nElaborer le guide d’entretien pour l’un des audités (préciser lequel)  \\n \\nVotre réponse  :  \\nD’après mes p récédentes réponses, j ’ai identifié  12 personnes à aud iter :  \\n\\uf0a0 Manager des achat s : 15 février à 10h   \\n\\uf0a0 Manager de la suppl y cha in : 15 février à 15h  \\n\\uf0a0 Manager SI  : 17 février à 10h  \\n\\uf0a0 Manager  équipe  commerciale  : 17 février à 15h  \\n\\uf0a0 Un vendeur banque  : 18 février à 10h  \\n\\uf0a0 Un préparateur de commande  : 18 février à 15h  \\n\\uf0a0 Un expéditionnaire  : 19 février à 10h  \\n\\uf0a0 Un approvisionn eur : 19 février à 15h  \\n\\uf0a0 Un réceptionnaire  : 20 févr ier à 10h  \\n\\uf0a0 Un préparateur de commande  : 20 février à 15h  \\n\\uf0a0 Un commerci al itinérant : 21 février à 10h  \\n\\uf0a0 Un gestionnai re du SI  : 21 février à 15h  \\n  \\nVous trouverez ci -après le guide l’entreti en pour le manager de la suppl y chain  \\nÉtape  du processus  Document / \\npoints à  vérifier  Questionnement  \\nGestion des stoc ks  Procédure  Comment est gère les commandes des \\nagenc es ?  \\nQui est respons able du paramétrage du logici el de \\nstock  ? \\nComment est gérer l ’optimisation de l’espace de \\nstockage ?  \\nComment la communication  est établie e ntre \\nl’agence  et le service achat ?  \\nPoste  Fiche  de mission  les fiches d e post es correspond ent à la réalité ? \\nSi oui, les fiches de postes sont mis à jour par qui  \\nSi non, quel s sont les éléments manquants ?    \\nPlan de \\ndéveloppe ment \\ndes comp étences  Entretien \\nprofessionnel  Qui formali se les demandes de \\nformations au service sup port rh ?  \\ncomment les managers sont formés \\nà cet entreti en ?  \\nGestion du logiciels \\nde stock  Manuel d ’utilisation \\ndu logi ciel  Qui est respons able du paramétrage du logici el de \\nstock  ? \\nQui forme  à l’utilisation du logiciel ?  \\nComment est gérer les information sur l es \\nmisesà jour du logiciel ?  \\nKPI Tableau  de bord  Comment  sont  définis  les KPI de la gestion des \\nstocks  Inventaire s Procedure  des \\ninventaires  Quelle est la f réquence  inventaires ?  \\nQuelle est la m étho dologie de l’invent aire ?  \\n \\nQ6 : CONCLUSIONS DE L’AUDIT  \\nRédiger votre conclusion (à imaginer) présentant  :  \\n\\uf046 1 point fort  \\n\\uf046 2 points sensibles  \\n\\uf046 2 écarts  \\n \\nVotre réponse  :  \\n \\nLes conclusions de l ’audit nous ont permis d’identifi er plus éléments  :  \\n- Un point fort  :  \\nLa gestion sur l’optimi sation d e l’espace de st ock est parfaitement respectée . Nous pouvons \\nrelever que les équipes sont sensible à cet enjeu majeur  pour  l’approvisionnement  de l’agence .  \\n \\n- 2 points sensibles  :  \\nLe premier est le relevé  des disfonction nement  identifiés dans les comptes rendus de \\nréunions  notamme nt sur la gest ion d u logiciel et de st ockage .  \\nLe deuxième point  sensible est  la non-connexion  entre le logiciel  de st ocks et le système \\nd’informations interne de la société . Les outils sont en « silos  » et la commun ication entre les \\nservices n’est p as flui de  \\n \\n- 2 écarts  :  \\nLes fiches de pos tes de l’entrepris e ne sont p lus à jour avec l es missions sur certaines \\nfonction s. Les fiches de poste actuel  et les annonces de recrutement sont en décalage  avec \\nles missions de certains coll aborateu rs  \\nLes tableaux de bord s ne sont pas un outil de pilo tage par les managers et les é quipes car les \\ndonnées sont compl exes et  diffic ilement inexploitable . A titre d’exemple,la remont ée \\nd’informations n’est pas à l’instant  T mais S-1   Q7 : RECHERCHE DES CAUSES  \\nPour chaque écart relevé identifier faite une analyse des causes (en utilisant le diagramme 5M)  \\n \\nVotre réponse  :  \\nProblème à  \\nrésoudre  Main  d’œuvre  Méthode  Milieu  Matériel  Matière  \\nFiches de \\npostes  Le service RH \\nne fait pas de \\nreunions  pour \\nune mise à \\njour des postes \\net des métie rs  Le manager ne \\npeut pas faire \\ndes remontées \\nconcr ètes \\nterrains et sur \\nles besoins en  \\ncompétences  Le service RH ne \\nfait pas d’état \\ndes lieux sur les \\nmétiers de la \\nsociété  Les managers \\nont des \\ndifficultés à \\nrecru ter La \\ncommun icatio\\nn inter ser vice \\nn’est pas \\noptimum  \\nTableaux de \\nbords Le manager de \\nne peux \\nexploiter les \\ndonnées à \\nl’instant  T  Le manager \\ndoit passer \\nbeaucoup de \\ntemps à \\nanalyser , filtrer \\nles données \\npour avoir des \\ndonnée s \\nfiables  Il n’a pa s de \\nretours du \\nservice  SI et \\nDATA pour \\nl’optimisation \\ndu tableaux  de \\nbord  Le rapport est \\ntrès pe lu et in \\nintérêt léger \\npar les \\ncollaborateurs  Les ser vices \\ntravaillent en \\nsilos  \\n \\n \\n  Q8 : SOLUTIONS  \\nTrouver 2 solutions pour chaque écart  :  \\n\\uf046 Préciser à quelles causes elles correspondent  \\n\\uf046 Décrire les solutions  \\n \\nVotre réponse  :  \\n '"
      ]
     },
     "execution_count": 13,
     "metadata": {},
     "output_type": "execute_result"
    }
   ],
   "source": [
    "text"
   ]
  },
  {
   "cell_type": "code",
   "execution_count": null,
   "id": "1be4e315-05f1-4992-b65e-ae65626b8dd1",
   "metadata": {},
   "outputs": [],
   "source": []
  }
 ],
 "metadata": {
  "kernelspec": {
   "display_name": "Python 3 (ipykernel)",
   "language": "python",
   "name": "python3"
  },
  "language_info": {
   "codemirror_mode": {
    "name": "ipython",
    "version": 3
   },
   "file_extension": ".py",
   "mimetype": "text/x-python",
   "name": "python",
   "nbconvert_exporter": "python",
   "pygments_lexer": "ipython3",
   "version": "3.11.5"
  }
 },
 "nbformat": 4,
 "nbformat_minor": 5
}
