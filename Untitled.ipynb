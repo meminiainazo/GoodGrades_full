{
 "cells": [
  {
   "cell_type": "code",
   "execution_count": 1,
   "id": "8d093896-98fb-420b-a8ad-c376b5ac20b0",
   "metadata": {},
   "outputs": [],
   "source": [
    "import pandas as pd\n",
    "from fill_variables import *\n",
    "import docx\n",
    "import re"
   ]
  },
  {
   "cell_type": "code",
   "execution_count": 2,
   "id": "bb7c4f6b-5cde-45d2-a6fc-6b6616f95c69",
   "metadata": {},
   "outputs": [],
   "source": [
    "#Get number of questions ----------------------------------------------------------------------------------------\n",
    "def get_nb_questions():\n",
    "    not_Check = True\n",
    "    while not_Check:\n",
    "        nb_Questions = input(\"Entrez le nombre de questions : \")\n",
    "        try:\n",
    "            nb_Questions = int(nb_Questions)\n",
    "            not_Check = False\n",
    "        except ValueError:\n",
    "            print(\"Veuillez entrer un nombre entier !\")\n",
    "    return nb_Questions\n",
    "# --------------------------------------------------------------------------------------------------------------"
   ]
  },
  {
   "cell_type": "code",
   "execution_count": 93,
   "id": "d35a43a7-66ce-4fb2-a8a9-0de41ddf378e",
   "metadata": {},
   "outputs": [],
   "source": [
    "def get_patterns(subject):\n",
    "    pattern_Debut = []\n",
    "    pattern_End = []  \n",
    "    pattern_point = [r\"points)\",r\"point)\",r\"pts)\",r\"pt)\"]\n",
    "\n",
    "    nb_Questions = get_nb_questions()\n",
    "    pattern_numero = [[f\"{num}[)]\",f\"{num}/\",f\"Q{num}\",f\"QUESTION {num}\",f\"QUESTION{num}\"] for num in range(1,nb_Questions+1)]\n",
    "    # for i in range(nb_Questions):\n",
    "    #     pattern_numero[i][0] += r\"\\)\"\n",
    "\n",
    "    is_inside_paragraph = False\n",
    "    if subject.endswith(\".docx\"):\n",
    "        file = docx.Document(subject)\n",
    "        for paragraph in file.paragraphs:\n",
    "            for i in range(nb_Questions):\n",
    "                for j in range(len(pattern_numero[i])):\n",
    "                    if re.match(pattern_numero[i][j], paragraph.text):\n",
    "                        pattern_Debut.append(paragraph.text)\n",
    "    for i in range(1,len(pattern_Debut)):\n",
    "        pattern_End.append(pattern_Debut[i])\n",
    "    \n",
    "    #print(pattern_Debut[0])\n",
    "    #print(pattern_End)\n",
    "\n",
    "    return pattern_Debut, pattern_End\n"
   ]
  },
  {
   "cell_type": "code",
   "execution_count": 43,
   "id": "75ef30a9-2257-470f-8b51-0b3b01a08acb",
   "metadata": {},
   "outputs": [],
   "source": [
    "def get_patterns(subject):\n",
    "    pattern_Debut = []\n",
    "    pattern_End = []\n",
    "    pattern_point = [r\"points\\)\",r\"point\\)\",r\"pts\\)\",r\"pt\\)\"]\n",
    "    pattern_numero = [[f\"{num}\\)\",f\"{num}/\",f\"Q{num}\",f\"QUESTION {num}\",f\"QUESTION{num}\"] for num in range(1,10)]\n",
    "\n",
    "    if subject.endswith(\".docx\"):\n",
    "        file = docx.Document(subject)\n",
    "        numero_is_inside = False\n",
    "        for paragraph in file.paragraphs:\n",
    "            for i in range(9):\n",
    "                for j in range(len(pattern_numero[i])):\n",
    "                    if re.match(pattern_numero[i][j], paragraph.text):\n",
    "                        numero_is_inside = True\n",
    "                        break\n",
    "        for paragraph in file.paragraphs:\n",
    "            if numero_is_inside:\n",
    "                for i in range(9):\n",
    "                        for j in range(len(pattern_numero[i])):\n",
    "                            if re.match(pattern_numero[i][j], paragraph.text):\n",
    "                                pattern_Debut.append(paragraph.text)\n",
    "            else :\n",
    "                for i in range(len(pattern_point)):\n",
    "                    if re.search(pattern_point[i], paragraph.text):\n",
    "                        pattern_Debut.append(paragraph.text)\n",
    "                        \n",
    "    for i in range(1,len(pattern_Debut)):\n",
    "        pattern_End.append(pattern_Debut[i])\n",
    "    pattern_End.append(\"///\")\n",
    "    \n",
    "    #print(pattern_Debut[0])\n",
    "    #print(pattern_End)\n",
    "\n",
    "    return pattern_Debut, pattern_End"
   ]
  },
  {
   "cell_type": "code",
   "execution_count": 44,
   "id": "2cc67d6f-aebd-4b87-b099-1ef6f015e6a8",
   "metadata": {},
   "outputs": [],
   "source": [
    "result1,result2 = get_patterns(\"reference_answer/\" + get_file(\"reference_answer/\"))"
   ]
  },
  {
   "cell_type": "code",
   "execution_count": 45,
   "id": "f7ea4588-864e-4037-9e2d-6655103cac0e",
   "metadata": {},
   "outputs": [
    {
     "name": "stdout",
     "output_type": "stream",
     "text": [
      "['1) In your opinion, do the \"agile\" HR policies described in the article facilitate', '2) What are the advantages and disadvantages of Digital Ocean\\'s \"agile\"', \"3) In your opinion, do Johnson & Johnson's ongoing peer review practices\", '4) The authors write, in the conclusion of the article, that \"Some jobs should'] ['2) What are the advantages and disadvantages of Digital Ocean\\'s \"agile\"', \"3) In your opinion, do Johnson & Johnson's ongoing peer review practices\", '4) The authors write, in the conclusion of the article, that \"Some jobs should', '///']\n"
     ]
    }
   ],
   "source": [
    "print(result1, result2)"
   ]
  },
  {
   "cell_type": "code",
   "execution_count": 28,
   "id": "d2bc46de-006e-4f03-9bb8-a83024496108",
   "metadata": {},
   "outputs": [
    {
     "name": "stdout",
     "output_type": "stream",
     "text": [
      "Questions have been extracted and saved to 'questions_and_answers.xlsx'.\n"
     ]
    }
   ],
   "source": [
    "import docx\n",
    "from openpyxl import Workbook\n",
    "\n",
    "# Open the docx file\n",
    "doc = docx.Document(\"reference_answer\\examen.docx\")\n",
    "\n",
    "# Create a new Excel workbook\n",
    "workbook = Workbook()\n",
    "sheet = workbook.active\n",
    "\n",
    "# Initialize variables to capture the question\n",
    "current_question = \"\"\n",
    "questions = []\n",
    "\n",
    "# Iterate through the paragraphs in the docx file\n",
    "for paragraph in doc.paragraphs:\n",
    "    text = paragraph.text.strip()\n",
    "    \n",
    "    # Check if the line starts with a question number\n",
    "    if text.startswith(\"1)\") or text.startswith(\"2)\") or text.startswith(\"3)\") or text.startswith(\"4)\"):\n",
    "        # Store the current question and start a new one\n",
    "        if current_question:\n",
    "            questions.append(current_question)\n",
    "        current_question = text\n",
    "    else:\n",
    "        # Extend the current question with this line\n",
    "        current_question += \" \" + text\n",
    "\n",
    "# Append the last question\n",
    "if current_question:\n",
    "    questions.append(current_question)\n",
    "\n",
    "# Write questions to the Excel sheet\n",
    "for i, question in enumerate(questions, start=1):\n",
    "    sheet.cell(row=i, column=1, value=f\"Question {i}:\")\n",
    "    sheet.cell(row=i, column=2, value=question)\n",
    "\n",
    "# Save the Excel file\n",
    "workbook.save(\"questions_and_answers.xlsx\")\n",
    "\n",
    "print(\"Questions have been extracted and saved to 'questions_and_answers.xlsx'.\")\n"
   ]
  },
  {
   "cell_type": "code",
   "execution_count": null,
   "id": "becaf7dd-c57b-48e0-9d70-949ebdfa3b56",
   "metadata": {},
   "outputs": [],
   "source": []
  }
 ],
 "metadata": {
  "kernelspec": {
   "display_name": "Python 3 (ipykernel)",
   "language": "python",
   "name": "python3"
  },
  "language_info": {
   "codemirror_mode": {
    "name": "ipython",
    "version": 3
   },
   "file_extension": ".py",
   "mimetype": "text/x-python",
   "name": "python",
   "nbconvert_exporter": "python",
   "pygments_lexer": "ipython3",
   "version": "3.11.5"
  }
 },
 "nbformat": 4,
 "nbformat_minor": 5
}
