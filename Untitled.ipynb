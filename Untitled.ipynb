{
 "cells": [
  {
   "cell_type": "code",
   "execution_count": 2,
   "id": "e68be34d-bed7-4188-8782-0b71e51d3eea",
   "metadata": {},
   "outputs": [],
   "source": [
    "pattern_numero = [[f\"{num})\",f\"{num}/\",f\"Q{num}\",f\"QUESTION {num}\",f\"QUESTION{num}\"] for num in range(5)]"
   ]
  },
  {
   "cell_type": "code",
   "execution_count": 3,
   "id": "0bc52803-3e7e-4cb1-87fa-60769610147d",
   "metadata": {},
   "outputs": [
    {
     "name": "stdout",
     "output_type": "stream",
     "text": [
      "[['0)', '0/', 'Q0', 'QUESTION 0', 'QUESTION0'], ['1)', '1/', 'Q1', 'QUESTION 1', 'QUESTION1'], ['2)', '2/', 'Q2', 'QUESTION 2', 'QUESTION2'], ['3)', '3/', 'Q3', 'QUESTION 3', 'QUESTION3'], ['4)', '4/', 'Q4', 'QUESTION 4', 'QUESTION4']]\n"
     ]
    }
   ],
   "source": [
    "print(pattern_numero)"
   ]
  },
  {
   "cell_type": "code",
   "execution_count": 5,
   "id": "f7a8a4a9-50c3-4610-97ec-9431fb32ef99",
   "metadata": {},
   "outputs": [
    {
     "name": "stdout",
     "output_type": "stream",
     "text": [
      "0)\n"
     ]
    }
   ],
   "source": [
    "print(pattern_numero[0][0])"
   ]
  },
  {
   "cell_type": "code",
   "execution_count": null,
   "id": "8d093896-98fb-420b-a8ad-c376b5ac20b0",
   "metadata": {},
   "outputs": [],
   "source": []
  }
 ],
 "metadata": {
  "kernelspec": {
   "display_name": "Python 3 (ipykernel)",
   "language": "python",
   "name": "python3"
  },
  "language_info": {
   "codemirror_mode": {
    "name": "ipython",
    "version": 3
   },
   "file_extension": ".py",
   "mimetype": "text/x-python",
   "name": "python",
   "nbconvert_exporter": "python",
   "pygments_lexer": "ipython3",
   "version": "3.11.0"
  }
 },
 "nbformat": 4,
 "nbformat_minor": 5
}
